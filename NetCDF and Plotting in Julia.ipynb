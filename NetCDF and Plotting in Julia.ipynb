{
 "cells": [
  {
   "cell_type": "markdown",
   "metadata": {},
   "source": [
    "<h1> Exploring NetCDF Files in Julia </h1>\n"
   ]
  },
  {
   "cell_type": "markdown",
   "metadata": {},
   "source": [
    "The following document contains an overview of basic data exploration with Julia. It is not meant as a rigorous analysis; rather, its purpose is to familarise the writer (and any potential reader) with some Julia fundamentals, in the specific context of NetCDF (```.nc```) files. \n",
    "\n",
    "Note that this document will be briefer than the companion document in Python, given a reasonable degree of overlap. Specifically, Julia packages such as [PyCall.jl](https://github.com/JuliaPy/PyCall.jl) allow for full Python interoperability within Julia, thus representing a good starting point <i>(for those who have existing familiarity with Python)</i>."
   ]
  },
  {
   "cell_type": "markdown",
   "metadata": {},
   "source": [
    "<h2> Environment Set-Up </h2>"
   ]
  },
  {
   "cell_type": "markdown",
   "metadata": {},
   "source": [
    "Julia's native package manager is called *pkg*. It can be accessed through the Julia REPL by pressing the right-hand square brackets symbol, ```]```, and exited by using ```backspace``` (Mac, Linux) or ```Ctrl-C``` (Windows). From the command line, we can use it to add the packages as follows using:\n",
    "\n",
    "        pkg> add NetCDF\n",
    "\n",
    "<b>Note: </b> <i>You can add unsupported packages by specifying the relevant URL:</i>\n",
    "\n",
    "        pkg> add https://github.com/JuliaLang/Example.jl\n",
    "\n",
    "However, since we're currently working in Jupyter, we use the following syntax to add native Julia packages, or Python wrappers (here, I'm using Conda as my standard package manager):"
   ]
  },
  {
   "cell_type": "code",
   "execution_count": null,
   "metadata": {},
   "outputs": [],
   "source": [
    "# To add packages\n",
    "import Pkg; \n",
    "Pkg.add(\"NetCDF\")\n",
    "Pkg.add(\"PyCall\") \n",
    "Pkg.add(\"Conda\")\n",
    "\n",
    "# To install Python wrappers\n",
    "using Conda; Conda.add(\"Cartopy\")"
   ]
  },
  {
   "cell_type": "markdown",
   "metadata": {},
   "source": [
    "<h2> Data Overview </h2>"
   ]
  },
  {
   "cell_type": "markdown",
   "metadata": {},
   "source": [
    "There are a number of useful tools available for dealing with netCDF files in Julia. The first I encountered were the [NetCDF.jl](https://juliageo.org/NetCDF.jl/dev/) and [NCDatasets.jl](https://alexander-barth.github.io/NCDatasets.jl/stable/) packages. "
   ]
  },
  {
   "cell_type": "code",
   "execution_count": 11,
   "metadata": {},
   "outputs": [
    {
     "name": "stdout",
     "output_type": "stream",
     "text": [
      "\n",
      "##### NetCDF File #####\n",
      "\n",
      "/Users/leebardon/Desktop/data/so_ann_CCSM3_abrupt8x_1450_g025.nc\n",
      "\n",
      "##### Dimensions #####\n",
      "\n",
      "Name                                                Length                    \n",
      "--------------------------------------------------------------------------------\n",
      "lat                                                 72                        \n",
      "time                                                UNLIMITED (1450 currently)\n",
      "z_t                                                 25                        \n",
      "lon                                                 144                       \n",
      "\n",
      "##### Variables #####\n",
      "\n",
      "Name                            Type            Dimensions                      \n",
      "--------------------------------------------------------------------------------\n",
      "lat                             DOUBLE          lat                             \n",
      "time                            DOUBLE          time                            \n",
      "so                              FLOAT           lon lat z_t time                \n",
      "z_t                             FLOAT           z_t                             \n",
      "TAREA                           FLOAT           lon lat                         \n",
      "lon                             DOUBLE          lon                             \n",
      "\n",
      "##### Attributes #####\n",
      "\n",
      "Variable            Name                Value                                   \n",
      "--------------------------------------------------------------------------------\n",
      "global              history             Sun Jul 17 20:47:18 2016: cdo remapbil..\n",
      "global              CDO                 Climate Data Operators version 1.7.0 (..\n",
      "global              CDI                 Climate Data Interface version 1.7.0 (..\n",
      "global              Conventions         CF-1.4                                  \n",
      "lat                 units               degrees_north                           \n",
      "lat                 long_name           latitude                                \n",
      "lat                 axis                Y                                       \n",
      "lat                 standard_name       latitude                                \n",
      "time                units               days since 0-1-1 00:00:00               \n",
      "time                calendar            365_day                                 \n",
      "time                long_name           time                                    \n",
      "time                axis                T                                       \n",
      "time                standard_name       time                                    \n",
      "so                  units               gram/kilogram                           \n",
      "so                  missing_value       9.96921e33                              \n",
      "so                  cell_methods        time: mean                              \n",
      "so                  add_offset          0.0                                     \n",
      "so                  long_name           Salinity                                \n",
      "so                  time                730.0                                   \n",
      "so                  scale_factor        1000.0                                  \n",
      "so                  _FillValue          9.96921e33                              \n",
      "z_t                 units               centimeters                             \n",
      "z_t                 long_name           depth from surface to midpoint of layer \n",
      "z_t                 axis                Z                                       \n",
      "z_t                 positive            down                                    \n",
      "TAREA               units               centimeter^2                            \n",
      "TAREA               missing_value       9.96921e36                              \n",
      "TAREA               long_name           area of T cells                         \n",
      "TAREA               _FillValue          9.96921e36                              \n",
      "lon                 units               degrees_east                            \n",
      "lon                 long_name           longitude                               \n",
      "lon                 axis                X                                       \n",
      "lon                 standard_name       longitude                               \n"
     ]
    }
   ],
   "source": [
    "using NetCDF\n",
    "nc_data = \"/Users/leebardon/Desktop/data/so_ann_CCSM3_abrupt8x_1450_g025.nc\"\n",
    "ncinfo(nc_data) # prints metadata"
   ]
  },
  {
   "cell_type": "markdown",
   "metadata": {},
   "source": [
    "From here, there are a number of ways to obtain and explore the data of interest. After some experimentation, I have found the following function to be succinct and efficient, with the added bonus of closing the file once the relevant data has been extracted: "
   ]
  },
  {
   "cell_type": "code",
   "execution_count": 12,
   "metadata": {},
   "outputs": [
    {
     "data": {
      "text/plain": [
       "read_stuff (generic function with 1 method)"
      ]
     },
     "execution_count": 12,
     "metadata": {},
     "output_type": "execute_result"
    }
   ],
   "source": [
    "# Pkg.add(\"NCDatasets\")\n",
    "using NCDatasets\n",
    "\n",
    "function read_stuff(data::String)\n",
    "    local lons, lats, so_data\n",
    "    NCDatasets.Dataset(data, \"r\") do ds\n",
    "        lons = ds[\"lon\"][:]\n",
    "        lats = ds[\"lat\"][:]\n",
    "        so_data = ds[\"so\"][:]\n",
    "    end\n",
    "    return lons, lats, so_data\n",
    "end"
   ]
  },
  {
   "cell_type": "markdown",
   "metadata": {},
   "source": [
    "We can then call the function, passing the ```.nc``` file of interest as an argument, and obtain ```lons```, ```lats``` and ```so_data``` as return values."
   ]
  },
  {
   "cell_type": "code",
   "execution_count": null,
   "metadata": {},
   "outputs": [],
   "source": [
    "lons, lats, so_data = read_stuff(nc_data)"
   ]
  },
  {
   "cell_type": "code",
   "execution_count": 14,
   "metadata": {},
   "outputs": [
    {
     "name": "stdout",
     "output_type": "stream",
     "text": [
      "LONS SIZE: (144,) --> Dimensions: 1\n",
      "LATS SIZE: (72,) --> Dimensions: 1\n",
      "SO_DATA SIZE: (144, 72, 25, 1450) --> Dimensions: 4"
     ]
    }
   ],
   "source": [
    "print(\"LONS SIZE: \", size(lons), \" --> \",\n",
    "      \"Dimensions: \", ndims(lons),\n",
    "      \"\\n\",\n",
    "      \"LATS SIZE: \", size(lats), \" --> \", \n",
    "      \"Dimensions: \", ndims(lats),\n",
    "      \"\\n\",\n",
    "      \"SO_DATA SIZE: \", size(so_data), \" --> \",\n",
    "      \"Dimensions: \", ndims(so_data))"
   ]
  },
  {
   "cell_type": "markdown",
   "metadata": {},
   "source": [
    "We can see that ```lons``` and ```lats``` at 1D arrays. For plotting purposes, we need to mesh these as 2D arrays, and plot alongside the equivalant dimensions in ```so_data```:"
   ]
  },
  {
   "cell_type": "code",
   "execution_count": 15,
   "metadata": {},
   "outputs": [
    {
     "name": "stdout",
     "output_type": "stream",
     "text": [
      "(144, 72)\n",
      "(144, 72)"
     ]
    },
    {
     "data": {
      "text/plain": [
       "Array{Float64,2}"
      ]
     },
     "execution_count": 15,
     "metadata": {},
     "output_type": "execute_result"
    }
   ],
   "source": [
    "# Pkg.add(\"VectorizedRoutines\")\n",
    "using VectorizedRoutines\n",
    "\n",
    "lons, lats = Matlab.meshgrid(lats[:],lons[:])\n",
    "print(size(lons),\n",
    "      \"\\n\",\n",
    "      size(lats))\n",
    "\n",
    "typeof(lats)"
   ]
  },
  {
   "cell_type": "code",
   "execution_count": 16,
   "metadata": {},
   "outputs": [
    {
     "name": "stdout",
     "output_type": "stream",
     "text": [
      "(144, 72)"
     ]
    }
   ],
   "source": [
    "# Slicing relevant dimensions from so_data\n",
    "so_sliced = view(so_data, :, :, 1, 1)\n",
    "\n",
    "print(size(so_sliced))"
   ]
  },
  {
   "cell_type": "markdown",
   "metadata": {},
   "source": [
    "<h2> Plotting </h2>"
   ]
  },
  {
   "cell_type": "markdown",
   "metadata": {},
   "source": [
    "In theory, our data is now ready for visualisation. Unfortunately, continued environmental conflicts within my own have prevented me from plotting via this method (I may have to rebuild my Conda environment - the error messages are a little unclear). It seems to a known bug (but rare) with PyCall in certain systems. \n",
    "\n",
    "Regardless, the following (or some variation thereof) MAY work for you. More examples of useing ```Cartopy``` with Julia can be found [here](https://gist.github.com/jpwspicer/91c75f5cf7a2354fbb2d)."
   ]
  },
  {
   "cell_type": "code",
   "execution_count": null,
   "metadata": {},
   "outputs": [],
   "source": [
    "using PyPlot, PyCall\n",
    "ccrs = pyimport(\"cartopy.crs\")\n",
    "\n",
    "fig = figure(figsize=(18, 16))\n",
    "ax = subplot(projection=ccrs.Robinson())\n",
    "ax.set_global()\n",
    "ax.stock_img()\n",
    "ax.coastlines()\n",
    "\n",
    "PyPlot.contourf(lons, lats, so_sliced)\n",
    "# PyPlot.pcolor(lons,lats, so_sliced)"
   ]
  },
  {
   "cell_type": "code",
   "execution_count": null,
   "metadata": {},
   "outputs": [],
   "source": [
    "# Alternatively, try using Basemap to reproduce the earlier Python plot:\n",
    "using Conda; Conda.add(\"basemap\")\n",
    "basemap = pyimport(\"mpl_toolkits.basemap\")\n",
    "\n",
    "function cyl_plot(x_datapoints, y_datapoints, data, cbar_label, title)\n",
    "    \n",
    "    m = basemap.Basemap(resolution=\"l\",projection=\"cyl\", lon_0=180.0, lat_0=0.0)\n",
    "    \n",
    "    # Size \n",
    "    fig = plt.figure(figsize=(18, 16), edgecolor=\"w\")\n",
    "\n",
    "    # Plot Data\n",
    "    cs = m.pcolor(x_datapoints,y_datapoints, data)\n",
    "    \n",
    "    # Grid Lines\n",
    "    m.drawparallels(np.arange(-80., 81., 10.), labels=[1,0,0,0], fontsize=12)\n",
    "    m.drawmeridians(np.arange(-180., 181., 20.), labels=[0,0,0,1], fontsize=12)\n",
    "\n",
    "    # Coastlines and Country Boundaries\n",
    "    m.drawcoastlines()\n",
    "    m.drawcountries()\n",
    "    m.fillcontinents(color=\"lightcoral\",lake_color=\"turquoise\")\n",
    "\n",
    "    # Colorbar\n",
    "    cbar = m.colorbar(cs, location=\"bottom\", pad=\"10%\")\n",
    "    cbar.set_label(cbar_label, fontsize=12)\n",
    "\n",
    "    # Title\n",
    "    plt.title(title, fontsize=16)\n",
    "end\n",
    "\n",
    "display(cyl_plot(lons, lats, so_sliced, \"Salinity in g/kg\", \"Salinity as a Function of Lat and Lon\"))\n"
   ]
  },
  {
   "cell_type": "markdown",
   "metadata": {},
   "source": [
    "<h2> Workaround </h2>"
   ]
  },
  {
   "cell_type": "markdown",
   "metadata": {},
   "source": [
    "Finally, I found a set of tools called [ClimateTools.jl](https://juliaclimate.github.io/ClimateTools.jl/stable/) and an associated plotting package [ClimatePlots.jl](https://juliaclimate.github.io/ClimatePlots.jl/stable/).\n",
    "\n",
    "The documentation is quite sparce in places, but it makes certain aspects of dealing with this data a breeze. "
   ]
  },
  {
   "cell_type": "code",
   "execution_count": 18,
   "metadata": {},
   "outputs": [
    {
     "data": {
      "text/plain": [
       "\u001b[31mNCDataset: so_ann_CCSM3_abrupt8x_1450_g025.nc\u001b[39m\n",
       "Group: /\n",
       "\n",
       "\u001b[31mDimensions\u001b[39m\n",
       "   lon = 144\n",
       "   lat = 72\n",
       "   z_t = 25\n",
       "   time = 1450\n",
       "\n",
       "\u001b[31mVariables\u001b[39m\n",
       "\u001b[32m  lon\u001b[39m   (144)\n",
       "    Datatype:    Float64\n",
       "    Dimensions:  lon\n",
       "    Attributes:\n",
       "     standard_name        = \u001b[34mlongitude\u001b[39m\n",
       "     long_name            = \u001b[34mlongitude\u001b[39m\n",
       "     units                = \u001b[34mdegrees_east\u001b[39m\n",
       "     axis                 = \u001b[34mX\u001b[39m\n",
       "\n",
       "\u001b[32m  lat\u001b[39m   (72)\n",
       "    Datatype:    Float64\n",
       "    Dimensions:  lat\n",
       "    Attributes:\n",
       "     standard_name        = \u001b[34mlatitude\u001b[39m\n",
       "     long_name            = \u001b[34mlatitude\u001b[39m\n",
       "     units                = \u001b[34mdegrees_north\u001b[39m\n",
       "     axis                 = \u001b[34mY\u001b[39m\n",
       "\n",
       "\u001b[32m  z_t\u001b[39m   (25)\n",
       "    Datatype:    Float32\n",
       "    Dimensions:  z_t\n",
       "    Attributes:\n",
       "     long_name            = \u001b[34mdepth from surface to midpoint of layer\u001b[39m\n",
       "     units                = \u001b[34mcentimeters\u001b[39m\n",
       "     positive             = \u001b[34mdown\u001b[39m\n",
       "     axis                 = \u001b[34mZ\u001b[39m\n",
       "\n",
       "\u001b[32m  time\u001b[39m   (1450)\n",
       "    Datatype:    Float64\n",
       "    Dimensions:  time\n",
       "    Attributes:\n",
       "     standard_name        = \u001b[34mtime\u001b[39m\n",
       "     long_name            = \u001b[34mtime\u001b[39m\n",
       "     units                = \u001b[34mdays since 0-1-1 00:00:00\u001b[39m\n",
       "     calendar             = \u001b[34m365_day\u001b[39m\n",
       "     axis                 = \u001b[34mT\u001b[39m\n",
       "\n",
       "\u001b[32m  so\u001b[39m   (144 × 72 × 25 × 1450)\n",
       "    Datatype:    Float32\n",
       "    Dimensions:  lon × lat × z_t × time\n",
       "    Attributes:\n",
       "     long_name            = \u001b[34mSalinity\u001b[39m\n",
       "     units                = \u001b[34mgram/kilogram\u001b[39m\n",
       "     add_offset           = \u001b[34m0.0\u001b[39m\n",
       "     scale_factor         = \u001b[34m1000.0\u001b[39m\n",
       "     _FillValue           = \u001b[34m9.96921e33\u001b[39m\n",
       "     missing_value        = \u001b[34m9.96921e33\u001b[39m\n",
       "     cell_methods         = \u001b[34mtime: mean\u001b[39m\n",
       "     time                 = \u001b[34m730.0\u001b[39m\n",
       "\n",
       "\u001b[32m  TAREA\u001b[39m   (144 × 72)\n",
       "    Datatype:    Float32\n",
       "    Dimensions:  lon × lat\n",
       "    Attributes:\n",
       "     long_name            = \u001b[34marea of T cells\u001b[39m\n",
       "     units                = \u001b[34mcentimeter^2\u001b[39m\n",
       "     _FillValue           = \u001b[34m9.96921e36\u001b[39m\n",
       "     missing_value        = \u001b[34m9.96921e36\u001b[39m\n",
       "\n",
       "\u001b[31mGlobal attributes\u001b[39m\n",
       "  CDI                  = \u001b[34mClimate Data Interface version 1.7.0 (http://mpimet.mpg.de/cdi)\u001b[39m\n",
       "  Conventions          = \u001b[34mCF-1.4\u001b[39m\n",
       "  history              = \u001b[34mSun Jul 17 20:47:18 2016: cdo remapbil,mygrid so_CCSM3_abrupt8x_1450.nc so_CCSM3_abrupt8x_1450_g025.nc\u001b[39m\n",
       "  CDO                  = \u001b[34mClimate Data Operators version 1.7.0 (http://mpimet.mpg.de/cdo)\u001b[39m\n"
      ]
     },
     "execution_count": 18,
     "metadata": {},
     "output_type": "execute_result"
    }
   ],
   "source": [
    "# Pkg.add(\"ClimateTools\") \n",
    "# Pkg.add(\"ClimatePlots\") \n",
    "using ClimateTools # For easy reading and writing NetCDF Files\n",
    "using ClimatePlots # For plotting (exports the 'contour', 'pcolormesh` and `contourf` functions)\n",
    "\n",
    "# Explore the data (colourful!)\n",
    "Dataset(\"so_ann_CCSM3_abrupt8x_1450_g025.nc\")"
   ]
  },
  {
   "cell_type": "code",
   "execution_count": 19,
   "metadata": {},
   "outputs": [
    {
     "data": {
      "text/plain": [
       "ClimGrid struct with data:\n",
       "   4-dimensional AxisArray{Float32,4,...} with axes:\n",
       "    :lon, [-178.75, -176.25, -173.75, -171.25, -168.75, -166.25, -163.75, -161.25, -158.75, -156.25  …  156.25, 158.75, 161.25, 163.75, 166.25, 168.75, 171.25, 173.75, 176.25, 178.75]\n",
       "    :lat, [-88.75, -86.25, -83.75, -81.25, -78.75, -76.25, -73.75, -71.25, -68.75, -66.25  …  66.25, 68.75, 71.25, 73.75, 76.25, 78.75, 81.25, 83.75, 86.25, 88.75]\n",
       "    :z_t, Float32[400.0, 1222.0245, 2108.8806, 3100.537, 4239.197, 5577.873, 7187.428, 9166.115, 11653.914, 14854.848  …  81538.86, 111251.27, 147480.36, 188381.69, 232692.81, 279278.8, 327286.1, 376143.22, 425494.62, 475128.78]\n",
       "    :time, DateTimeNoLeap[DateTimeNoLeap(0002-01-01T00:00:00), DateTimeNoLeap(0003-01-01T00:00:00), DateTimeNoLeap(0004-01-01T00:00:00), DateTimeNoLeap(0005-01-01T00:00:00), DateTimeNoLeap(0006-01-01T00:00:00), DateTimeNoLeap(0007-01-01T00:00:00), DateTimeNoLeap(0008-01-01T00:00:00), DateTimeNoLeap(0009-01-01T00:00:00), DateTimeNoLeap(0010-01-01T00:00:00), DateTimeNoLeap(0011-01-01T00:00:00)  …  DateTimeNoLeap(1442-01-01T00:00:00), DateTimeNoLeap(1443-01-01T00:00:00), DateTimeNoLeap(1444-01-01T00:00:00), DateTimeNoLeap(1445-01-01T00:00:00), DateTimeNoLeap(1446-01-01T00:00:00), DateTimeNoLeap(1447-01-01T00:00:00), DateTimeNoLeap(1448-01-01T00:00:00), DateTimeNoLeap(1449-01-01T00:00:00), DateTimeNoLeap(1450-01-01T00:00:00), DateTimeNoLeap(1451-01-01T00:00:00)]\n",
       "And data, a 144×72×25×1450 Array{Float32,4}\n",
       "Project: N/A\n",
       "Institute: N/A\n",
       "Model: N/A\n",
       "Experiment: N/A\n",
       "Run: N/A\n",
       "Variable: so\n",
       "Data units: gram/kilogram\n",
       "Frequency: 31536000000 milliseconds\n",
       "Global attributes: Dict{String,String} with 4 entries\n",
       "Filename: so_ann_CCSM3_abrupt8x_1450_g025.nc"
      ]
     },
     "execution_count": 19,
     "metadata": {},
     "output_type": "execute_result"
    }
   ],
   "source": [
    "C = ClimateTools.load(\"so_ann_CCSM3_abrupt8x_1450_g025.nc\", \"so\", data_units=\"g/kg\")"
   ]
  },
  {
   "cell_type": "code",
   "execution_count": 20,
   "metadata": {},
   "outputs": [
    {
     "data": {
      "text/plain": [
       "(true, PyObject <cartopy.mpl.geoaxes.GeoAxesSubplot object at 0x152f034d0>, PyObject <cartopy.crs.Robinson object at 0x152f013b0>, PyObject <matplotlib.colorbar.Colorbar object at 0x154446950>)"
      ]
     },
     "metadata": {},
     "output_type": "display_data"
    },
    {
     "data": {
      "image/png": "[encoded data removed]",
      "text/plain": [
       "Figure(PyObject <Figure size 640x480 with 2 Axes>)"
      ]
     },
     "metadata": {},
     "output_type": "display_data"
    }
   ],
   "source": [
    "# fig = figure(figsize=(18, 16))\n",
    "display(ClimatePlots.contourf(C; region=\"auto\", titlestr=\"Sea Surface Salinity in g/kg\"))"
   ]
  },
  {
   "cell_type": "markdown",
   "metadata": {},
   "source": [
    "Yay! We have a plot... Albeit one that isn't yet responding to customization RE size, and other such parameters. But it's a start :)\n"
   ]
  },
  {
   "cell_type": "markdown",
   "metadata": {},
   "source": [
    "<h2> Conclusion </h2> "
   ]
  },
  {
   "cell_type": "markdown",
   "metadata": {},
   "source": [
    "I'll stick to Python for the time being - at least until I'm confident with the data, the analyses and the visualisations. The process was much simpler, due mainly to the much greater degree of - at all levels - support available. It seems like the path of least resistence in the first instance, until such time as the extra speed offered by Julia is increasingly desired. \n",
    "\n",
    "Nonetheless, I will continue to explore Julia on the side, and build experience with the language :)"
   ]
  }
 ],
 "metadata": {
  "kernelspec": {
   "display_name": "Julia 1.4.1",
   "language": "julia",
   "name": "julia-1.4"
  },
  "language_info": {
   "file_extension": ".jl",
   "mimetype": "application/julia",
   "name": "julia",
   "version": "1.4.1"
  }
 },
 "nbformat": 4,
 "nbformat_minor": 4
}
